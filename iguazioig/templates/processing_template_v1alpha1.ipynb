{
 "cells": [
  {
   "cell_type": "code",
   "execution_count": null,
   "metadata": {},
   "outputs": [],
   "source": [
    "# nuclio: start-code"
   ]
  },
  {
   "cell_type": "code",
   "execution_count": null,
   "metadata": {},
   "outputs": [],
   "source": [
    "import sys, os\n",
    "import ast\n",
    "module_paths = ast.literal_eval(os.getenv('MODULE_PATHS', None))\n",
    "if module_paths != None:\n",
    "    for module_path in module_paths:\n",
    "        sys.path.append(module_path)\n",
    "        \n",
    "import_modules = ast.literal_eval(os.getenv('IMPORT_MODULES', None))\n",
    "if import_modules != None:\n",
    "    imports={}\n",
    "    import importlib\n",
    "    for  module in import_modules:\n",
    "        imports[module] = importlib.import_module(module)"
   ]
  },
  {
   "cell_type": "code",
   "execution_count": null,
   "metadata": {},
   "outputs": [],
   "source": [
    "import ast\n",
    "import json\n",
    "import v3io.dataplane"
   ]
  },
  {
   "cell_type": "code",
   "execution_count": null,
   "metadata": {},
   "outputs": [],
   "source": [
    "def igz_post_to_stream(context,message):\n",
    "    Records=[]\n",
    "    # message must be a Python dictionary\n",
    "    message = json.dumps(message).encode('utf-8')\n",
    "    Records.append({\n",
    "            \"data\":  message,\n",
    "            \"partition_key\": message['PartitionKey'],\n",
    "            })\n",
    "    context.user_data.v3io_client.put_records(container=os.getenv('OUTPUT_STREAM_CONTAINER'),\n",
    "                                             path=os.getenv('OUTPUT_STREAM'),records=Records)\n"
   ]
  },
  {
   "cell_type": "code",
   "execution_count": null,
   "metadata": {},
   "outputs": [],
   "source": [
    "def igz_stream_init(context):\n",
    "    setattr(context.user_data,'v3io_client',\n",
    "            v3io.dataplane.Client(endpoint='https://v3io-webapi:8081', \n",
    "                                  access_key=os.getenv(\"V3IO_ACCESS_KEY\")))\n"
   ]
  },
  {
   "cell_type": "code",
   "execution_count": null,
   "metadata": {},
   "outputs": [],
   "source": [
    "def process(context,message):\n",
    "    # message is dictionary loaded from the stream event\n",
    "    _function=\"context.user_data.processing_class.%s(context,message)\"%os.getenv('PROCESSING_FUNCTION')\n",
    "    post_message = eval(_function)\n",
    "    if os.getenv('OUTPUT_STREAM') != None:\n",
    "        igz_post_to_stream(context,post_message)\n",
    "    \n",
    "    if os.getenv('POST_PROCESS_FUNCTION') != None:\n",
    "        _module, _function = os.getenv('POST_PROCESS_FUNCTION').split(\".\")\n",
    "        _post_process_function = \"imports['%s'].%s(context,message)\"%(_module, _function)\n",
    "        eval(_post_process_function)\n",
    "    return"
   ]
  },
  {
   "cell_type": "code",
   "execution_count": null,
   "metadata": {},
   "outputs": [],
   "source": [
    "def init_context(context):\n",
    "    # IMPORTANTE: Load the model here\n",
    "    # This code will put the model in the context of the function\n",
    "    _module, _class = os.getenv('CLASS_LOAD_FUNCTION').split(\".\")\n",
    "    _load_class = \"imports['%s'].%s()\"%(_module, _class)\n",
    "    setattr(context.user_data,'processing_class',eval(_load_class))\n",
    "    \n",
    "    # Required for inference graph\n",
    "    if os.getenv('OUTPUT_STREAM') != None:\n",
    "        igz_stream_init(context)\n",
    "\n",
    "    return\n",
    "    "
   ]
  },
  {
   "cell_type": "code",
   "execution_count": null,
   "metadata": {},
   "outputs": [],
   "source": [
    "def handler(context, event):\n",
    "    context.logger.debug(event.body)\n",
    "    try:\n",
    "        message = ast.literal_eval(event.body.decode('utf-8'))\n",
    "    except:\n",
    "        print(\"Malformated Json \", event.body)\n",
    "    message['shard']= event.shard_id\n",
    "    process(context,message)\n",
    "      \n",
    "    return "
   ]
  },
  {
   "cell_type": "code",
   "execution_count": null,
   "metadata": {},
   "outputs": [],
   "source": [
    "# nuclio: end-code"
   ]
  }
 ],
 "metadata": {
  "kernelspec": {
   "display_name": "Python 3",
   "language": "python",
   "name": "python3"
  },
  "language_info": {
   "codemirror_mode": {
    "name": "ipython",
    "version": 3
   },
   "file_extension": ".py",
   "mimetype": "text/x-python",
   "name": "python",
   "nbconvert_exporter": "python",
   "pygments_lexer": "ipython3",
   "version": "3.7.6"
  }
 },
 "nbformat": 4,
 "nbformat_minor": 4
}
