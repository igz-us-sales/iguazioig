{
 "cells": [
  {
   "cell_type": "code",
   "execution_count": null,
   "metadata": {},
   "outputs": [],
   "source": [
    "# nuclio: start-code"
   ]
  },
  {
   "cell_type": "code",
   "execution_count": null,
   "metadata": {},
   "outputs": [],
   "source": [
    "import sys, os\n",
    "import ast\n",
    "import json\n",
    "module_paths = ast.literal_eval(os.getenv('MODULE_PATHS', None))\n",
    "if module_paths != None:\n",
    "    for module_path in module_paths:\n",
    "        sys.path.append(module_path)\n",
    "        \n",
    "import_modules = ast.literal_eval(os.getenv('IMPORT_MODULES', None))\n",
    "if import_modules != None:\n",
    "    imports={}\n",
    "    import importlib\n",
    "    for  module in import_modules:\n",
    "        imports[module] = importlib.import_module(module)"
   ]
  },
  {
   "cell_type": "code",
   "execution_count": 17,
   "metadata": {},
   "outputs": [],
   "source": [
    "import v3io.dataplane"
   ]
  },
  {
   "cell_type": "code",
   "execution_count": 18,
   "metadata": {},
   "outputs": [],
   "source": [
    "def output_stream(context,message,details):\n",
    "    Records=[]\n",
    "    # message must be a Python dictionary\n",
    "    record = json.dumps(message).encode('utf-8')\n",
    "    Records.append({\n",
    "            \"data\":  record,\n",
    "            \"partition_key\": message['PartitionKey'],\n",
    "            })\n",
    "    context.user_data.v3io_client.put_records(container=os.getenv('OUTPUT_STREAM_CONTAINER'),\n",
    "                                             path=details['output_stream'],records=Records)\n",
    "    return"
   ]
  },
  {
   "cell_type": "code",
   "execution_count": 19,
   "metadata": {},
   "outputs": [],
   "source": [
    "def igz_stream_init(context):\n",
    "    setattr(context.user_data,'v3io_client',\n",
    "            v3io.dataplane.Client(endpoint='http://v3io-webapi:8081', \n",
    "                                  access_key=os.getenv(\"V3IO_ACCESS_KEY\")))\n"
   ]
  },
  {
   "cell_type": "code",
   "execution_count": 20,
   "metadata": {},
   "outputs": [],
   "source": [
    "def output_function(context,message,details):\n",
    "    _module, _function = details['post_process_function'].split(\".\")\n",
    "    \"imports['%s'].%s()\"%(_module, _function)\n",
    "    call_function = \"imports['%s'].%s(context,message)\"%(_module, _function)\n",
    "    try:\n",
    "        eval(call_function)\n",
    "    except Exception as e: \n",
    "        context.logger.error(\"output_function failed: %s\"%e)\n",
    "    return"
   ]
  },
  {
   "cell_type": "code",
   "execution_count": 21,
   "metadata": {},
   "outputs": [],
   "source": [
    "def output_http(context,message,details):\n",
    "    context.logger.info(\"If I was working I would post to %s the key %s\"% (details['url'],message['PartitionKey']))\n",
    "    return"
   ]
  },
  {
   "cell_type": "code",
   "execution_count": 22,
   "metadata": {},
   "outputs": [],
   "source": [
    "def post_process(context,message):\n",
    "    for output in context.user_data.outputs:\n",
    "        if 'condition' in output:\n",
    "            try:\n",
    "                if not eval(output['condition']):\n",
    "                    continue\n",
    "            except:\n",
    "                context.logger.debug(\"Invalid condition spec %s\"% output['condition'])\n",
    "                continue\n",
    "                \n",
    "        call_function = \"output_%s(context,message,output)\"%output['kind']\n",
    "        try:\n",
    "            eval(call_function)\n",
    "        except Exception as e: \n",
    "            context.logger.error(\"post_process failed: %s\"%e)"
   ]
  },
  {
   "cell_type": "code",
   "execution_count": 23,
   "metadata": {},
   "outputs": [],
   "source": [
    "def process(context,message):\n",
    "    # message is dictionary loaded from the stream event\n",
    "    _function=\"context.user_data.processing_class.%s(context,message)\"%os.getenv('PROCESSING_FUNCTION')\n",
    "    try:\n",
    "        post_message = eval(_function)\n",
    "    except Exception as e: \n",
    "        context.logger.error(\"process failed: %s\"%e)\n",
    "        \n",
    "    post_process(context,post_message)\n",
    "    return"
   ]
  },
  {
   "cell_type": "code",
   "execution_count": 24,
   "metadata": {},
   "outputs": [],
   "source": [
    "def init_context(context):\n",
    "    # IMPORTANTE: Load the model here\n",
    "    # This code will put the model in the context of the function\n",
    "    _module, _class = os.getenv('CLASS_LOAD_FUNCTION').split(\".\")\n",
    "    _load_class = \"imports['%s'].%s()\"%(_module, _class)\n",
    "    try:\n",
    "        setattr(context.user_data,'processing_class',eval(_load_class))\n",
    "    except Exception as e: \n",
    "        context.logger.error(\"Init class failed: %s\"%e)\n",
    "        \n",
    "    setattr(context.user_data,'outputs',ast.literal_eval(os.getenv('OUTPUTS')))\n",
    "    _stream_output = False\n",
    "    for output in context.user_data.outputs:\n",
    "        if output['kind'] == 'stream':\n",
    "            _stream_output = True\n",
    "            \n",
    "    if _stream_output:\n",
    "        igz_stream_init(context)\n",
    "\n",
    "    return\n",
    "    "
   ]
  },
  {
   "cell_type": "code",
   "execution_count": 25,
   "metadata": {},
   "outputs": [],
   "source": [
    "def handler(context, event):\n",
    "    context.logger.debug(event.body)\n",
    "    try:\n",
    "        message = json.loads(event.body.decode('utf-8'))\n",
    "    except:\n",
    "        print(\"Malformated Json \", event.body)\n",
    "    message['shard']= event.shard_id\n",
    "    process(context,message)\n",
    "      \n",
    "    return "
   ]
  },
  {
   "cell_type": "code",
   "execution_count": null,
   "metadata": {},
   "outputs": [],
   "source": [
    "# nuclio: end-code"
   ]
  }
 ],
 "metadata": {
  "kernelspec": {
   "display_name": "Python 3",
   "language": "python",
   "name": "python3"
  },
  "language_info": {
   "codemirror_mode": {
    "name": "ipython",
    "version": 3
   },
   "file_extension": ".py",
   "mimetype": "text/x-python",
   "name": "python",
   "nbconvert_exporter": "python",
   "pygments_lexer": "ipython3",
   "version": "3.7.6"
  }
 },
 "nbformat": 4,
 "nbformat_minor": 4
}
