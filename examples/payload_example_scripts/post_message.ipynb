{
 "cells": [
  {
   "cell_type": "code",
   "execution_count": 166,
   "metadata": {},
   "outputs": [],
   "source": [
    "import sys\n",
    "import os\n",
    "import requests\n",
    "import base64\n",
    "import time\n",
    "import json\n",
    "import uuid\n",
    "import random"
   ]
  },
  {
   "cell_type": "code",
   "execution_count": 167,
   "metadata": {},
   "outputs": [],
   "source": [
    "IGZ_CONTAINER='bigdata'\n",
    "INPUT_STREAM = 'pipeline_streams/input_stream'\n",
    "V3IO_WEBAPI = 'v3io-webapi:8081'"
   ]
  },
  {
   "cell_type": "code",
   "execution_count": 168,
   "metadata": {},
   "outputs": [],
   "source": [
    "import urllib3\n",
    "urllib3.disable_warnings(urllib3.exceptions.InsecureRequestWarning)\n",
    "\n",
    "url = \"http://%s/%s/%s/\"% (V3IO_WEBAPI,IGZ_CONTAINER,INPUT_STREAM)\n",
    "headers = {\n",
    "            \"Content-Type\": \"application/json\",\n",
    "            \"X-v3io-function\": \"PutRecords\",\n",
    "            \"X-v3io-session-key\" : os.getenv(\"V3IO_ACCESS_KEY\")\n",
    "          }"
   ]
  },
  {
   "cell_type": "code",
   "execution_count": 169,
   "metadata": {},
   "outputs": [],
   "source": [
    "def stream_frame_write(payload):\n",
    "    bef = time.time()\n",
    "    r = requests.post(url, headers=headers,json=payload, verify=False)   \n",
    "    time_diff = time.time()-bef\n",
    "    #print(\"Post time %s. Response %s\"% (time_diff, r.text))\n",
    "    return r.text"
   ]
  },
  {
   "cell_type": "code",
   "execution_count": 179,
   "metadata": {},
   "outputs": [],
   "source": [
    "def send_message():\n",
    "    Records=[]\n",
    "    PartitionKey = str(uuid.uuid4())\n",
    "   \n",
    "    message={\"PartitionKey\" : PartitionKey,\n",
    "            \"pdf_path\" : '/file/is/here',\n",
    "            \"s3_source\" : 'picked://up/here'}\n",
    "    messageb64 = base64.b64encode(json.dumps(message).encode('utf-8'))\n",
    "\n",
    "    Records.append({\n",
    "            \"Data\":  messageb64.decode('utf-8'),\n",
    "            \"PartitionKey\": PartitionKey,\n",
    "\n",
    "    })\n",
    "\n",
    "\n",
    "    payload = {\"Records\": Records}\n",
    "    r = stream_frame_write(payload)\n",
    "    #print(PartitionKey)"
   ]
  },
  {
   "cell_type": "code",
   "execution_count": 180,
   "metadata": {},
   "outputs": [],
   "source": [
    "msg_cnt = 0\n",
    "while msg_cnt < 10000:\n",
    "    send_message()\n",
    "    msg_cnt += 1"
   ]
  },
  {
   "cell_type": "code",
   "execution_count": null,
   "metadata": {},
   "outputs": [],
   "source": []
  },
  {
   "cell_type": "code",
   "execution_count": null,
   "metadata": {},
   "outputs": [],
   "source": []
  }
 ],
 "metadata": {
  "kernelspec": {
   "display_name": "Python 3",
   "language": "python",
   "name": "python3"
  },
  "language_info": {
   "codemirror_mode": {
    "name": "ipython",
    "version": 3
   },
   "file_extension": ".py",
   "mimetype": "text/x-python",
   "name": "python",
   "nbconvert_exporter": "python",
   "pygments_lexer": "ipython3",
   "version": "3.7.6"
  }
 },
 "nbformat": 4,
 "nbformat_minor": 4
}
