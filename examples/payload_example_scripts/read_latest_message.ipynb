{
 "cells": [
  {
   "cell_type": "code",
   "execution_count": 38,
   "metadata": {},
   "outputs": [],
   "source": [
    "IGZ_CONTAINER='bigdata'\n",
    "READ_STREAM = 'pdf_streams/parallel_process'\n",
    "V3IO_WEBAPI = 'v3io-webapi:8081'"
   ]
  },
  {
   "cell_type": "code",
   "execution_count": 39,
   "metadata": {},
   "outputs": [],
   "source": [
    "import requests\n",
    "import json\n",
    "import base64\n",
    "import os\n",
    "import time"
   ]
  },
  {
   "cell_type": "code",
   "execution_count": 41,
   "metadata": {},
   "outputs": [],
   "source": [
    "def seek_location(url = '',\n",
    "                container: str = '',\n",
    "                 stream: str = \"\",\n",
    "                  shard: int = 0,\n",
    "                 headers = '',\n",
    "                 secondsLapsed = 1):\n",
    "    payload = {\n",
    "            \"ShardId\": shard,\n",
    "            \"Type\": \"LATEST\",\n",
    "          }\n",
    "    headers[\"X-v3io-function\"] = \"Seek\"\n",
    "    r = requests.post(url, headers=headers,json=payload)\n",
    "    try:\n",
    "        location = json.loads(r.text)['Location']\n",
    "    except:\n",
    "        location = 0\n",
    "    return location"
   ]
  },
  {
   "cell_type": "code",
   "execution_count": 47,
   "metadata": {},
   "outputs": [],
   "source": [
    "def get_record(url,\n",
    "              container,\n",
    "              stream,\n",
    "              shard,\n",
    "              ):\n",
    "    location = seek_location(container=container,\n",
    "                             stream=stream,\n",
    "                             url=url,\n",
    "                            headers=headers,\n",
    "                            )\n",
    "    if location == 0:\n",
    "        print(\"No records on shard: %i\"% shard)\n",
    "        return\n",
    "    \n",
    "    img_payload = {\n",
    "            \"ShardId\":    shard,\n",
    "            \"Location\":   location,\n",
    "        \"Limit\":1\n",
    "    }\n",
    "    headers[\"X-v3io-function\"] = \"GetRecords\"\n",
    "    r = requests.post(url, headers=headers,json=img_payload)\n",
    "    \n",
    "    response=json.loads(r.text)\n",
    "    for record in response['Records']:\n",
    "        data = base64.b64decode(record['Data'])\n",
    "    \n",
    "    return data"
   ]
  },
  {
   "cell_type": "code",
   "execution_count": 50,
   "metadata": {},
   "outputs": [
    {
     "name": "stdout",
     "output_type": "stream",
     "text": [
      "No records on shard: 0\n",
      "None\n",
      "No records on shard: 1\n",
      "None\n",
      "No records on shard: 2\n",
      "None\n",
      "No records on shard: 3\n",
      "None\n",
      "No records on shard: 4\n",
      "None\n",
      "No records on shard: 5\n",
      "None\n",
      "No records on shard: 6\n",
      "None\n",
      "No records on shard: 7\n",
      "None\n",
      "No records on shard: 8\n",
      "None\n",
      "No records on shard: 9\n",
      "None\n",
      "No records on shard: 10\n",
      "None\n",
      "No records on shard: 11\n",
      "None\n",
      "No records on shard: 12\n",
      "None\n",
      "No records on shard: 13\n",
      "None\n",
      "No records on shard: 14\n",
      "None\n",
      "No records on shard: 15\n",
      "None\n"
     ]
    }
   ],
   "source": [
    "container=IGZ_CONTAINER\n",
    "stream=READ_STREAM\n",
    "\n",
    "url = \"http://v3io-webapi:8081/%s/%s/\"% (container,stream)\n",
    "headers = { \"Content-Type\": \"application/json\",\n",
    "        \"X-v3io-session-key\" : os.getenv(\"V3IO_ACCESS_KEY\")\n",
    "}\n",
    "\n",
    "shard=0\n",
    "while shard < 16:\n",
    "    print (get_record(url,container,stream,shard))\n",
    "    shard += 1\n"
   ]
  },
  {
   "cell_type": "code",
   "execution_count": null,
   "metadata": {},
   "outputs": [],
   "source": []
  }
 ],
 "metadata": {
  "kernelspec": {
   "display_name": "Python [conda env:.conda-holler-env]",
   "language": "python",
   "name": "conda-env-.conda-holler-env-py"
  },
  "language_info": {
   "codemirror_mode": {
    "name": "ipython",
    "version": 3
   },
   "file_extension": ".py",
   "mimetype": "text/x-python",
   "name": "python",
   "nbconvert_exporter": "python",
   "pygments_lexer": "ipython3",
   "version": "3.7.7"
  }
 },
 "nbformat": 4,
 "nbformat_minor": 4
}
