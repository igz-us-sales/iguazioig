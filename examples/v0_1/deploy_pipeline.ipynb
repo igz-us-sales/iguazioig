{
 "cells": [
  {
   "cell_type": "code",
   "execution_count": 1,
   "metadata": {},
   "outputs": [],
   "source": [
    "import iguazioig"
   ]
  },
  {
   "cell_type": "code",
   "execution_count": null,
   "metadata": {},
   "outputs": [
    {
     "name": "stdout",
     "output_type": "stream",
     "text": [
      "Using default v3io_access_key from environment\n",
      "> 2020-10-12 15:50:18,302 [info] deploy started\n",
      "[nuclio] 2020-10-12 15:50:18,322 project name not found created new (iguazio-inference-pipeline-v01)\n"
     ]
    }
   ],
   "source": [
    "iguazioig.deploy(yaml_file='./inference_graph.yaml')"
   ]
  },
  {
   "cell_type": "code",
   "execution_count": null,
   "metadata": {},
   "outputs": [],
   "source": []
  }
 ],
 "metadata": {
  "kernelspec": {
   "display_name": "Python [conda env:.conda-mlrun-0.5.1]",
   "language": "python",
   "name": "conda-env-.conda-mlrun-0.5.1-py"
  },
  "language_info": {
   "codemirror_mode": {
    "name": "ipython",
    "version": 3
   },
   "file_extension": ".py",
   "mimetype": "text/x-python",
   "name": "python",
   "nbconvert_exporter": "python",
   "pygments_lexer": "ipython3",
   "version": "3.7.7"
  }
 },
 "nbformat": 4,
 "nbformat_minor": 4
}
